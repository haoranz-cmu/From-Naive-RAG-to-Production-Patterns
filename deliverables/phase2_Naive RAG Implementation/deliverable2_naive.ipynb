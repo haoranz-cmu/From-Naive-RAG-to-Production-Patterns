{
 "cells": [
  {
   "cell_type": "code",
   "execution_count": 73,
   "id": "e0c27283",
   "metadata": {},
   "outputs": [],
   "source": [
    "from sentence_transformers import SentenceTransformer\n",
    "import faiss\n",
    "import pandas as pd\n",
    "import logging\n",
    "import os\n",
    "from datetime import datetime\n"
   ]
  },
  {
   "cell_type": "code",
   "execution_count": 74,
   "id": "dfb66ff7",
   "metadata": {},
   "outputs": [],
   "source": [
    "def setup_logging():\n",
    "    \"\"\"Setup logging configuration\"\"\"\n",
    "    # Create log directory if it doesn't exist\n",
    "    log_dir = \"../logs\"\n",
    "    if not os.path.exists(log_dir):\n",
    "        os.makedirs(log_dir)\n",
    "    \n",
    "    # Create log filename with timestamp\n",
    "    timestamp = datetime.now().strftime(\"%Y%m%d_%H%M%S\")\n",
    "    log_file = os.path.join(log_dir, f\"rag_system_{timestamp}.log\")\n",
    "    \n",
    "    # Configure logging\n",
    "    logging.basicConfig(\n",
    "        level=logging.INFO,\n",
    "        format='%(asctime)s - %(levelname)s - %(message)s',\n",
    "        handlers=[\n",
    "            logging.FileHandler(log_file),\n",
    "            logging.StreamHandler()  # Also print to console\n",
    "        ]\n",
    "    )\n",
    "    \n",
    "    logging.info(f\"Logging initialized. Log file: {log_file}\")\n",
    "    return log_file\n",
    "\n",
    "def load_training_data(file_path):\n",
    "    \"\"\"Load training data from CSV file\"\"\"\n",
    "    df = pd.read_csv(file_path)\n",
    "    return df[\"passage\"].tolist()\n",
    "\n",
    "def load_test_data(file_path):\n",
    "    \"\"\"Load test data from CSV file\"\"\"\n",
    "    df = pd.read_csv(file_path)\n",
    "    return dict(zip(df[\"question\"].tolist(), df[\"answer\"].tolist()))\n"
   ]
  },
  {
   "cell_type": "code",
   "execution_count": 75,
   "id": "992a3ae6",
   "metadata": {},
   "outputs": [],
   "source": [
    "def initialize_model():\n",
    "    \"\"\"Initialize the sentence transformer model\"\"\"\n",
    "    return SentenceTransformer('sentence-transformers/all-MiniLM-L6-v2')\n",
    "\n",
    "def get_embeddings(text, model):\n",
    "    \"\"\"Get embeddings for given text\"\"\"\n",
    "    return model.encode(text)"
   ]
  },
  {
   "cell_type": "code",
   "execution_count": 76,
   "id": "f8ccc465",
   "metadata": {},
   "outputs": [],
   "source": [
    "def create_index(embeddings):\n",
    "    \"\"\"Create FAISS index from embeddings\"\"\"\n",
    "    index = faiss.IndexFlatL2(embeddings.shape[1])\n",
    "    index.add(embeddings)\n",
    "    return index\n",
    "\n",
    "def search_similar_passages(query, index, training_data, model, k=1):\n",
    "    \"\"\"Search for similar passages using FAISS index\"\"\"\n",
    "    query_embedding = get_embeddings([query], model)\n",
    "    distances, indices = index.search(query_embedding, k)\n",
    "    return [training_data[i] for i in indices[0]]\n"
   ]
  },
  {
   "cell_type": "code",
   "execution_count": 77,
   "id": "b556e9b2",
   "metadata": {},
   "outputs": [],
   "source": [
    "def evaluate_retrieval_accuracy(test_data, index, training_data, model, num_samples=10):\n",
    "    \"\"\"Evaluate retrieval accuracy on a subset of test data\"\"\"\n",
    "    test_subset = dict(list(test_data.items())[:num_samples])\n",
    "    correct = 0\n",
    "    \n",
    "    for question, answer in test_subset.items():\n",
    "        results = search_similar_passages(question, index, training_data, model, k=1)\n",
    "        retrieved_text = \" \".join(results).lower()\n",
    "        \n",
    "        if answer.lower() in retrieved_text:\n",
    "            correct += 1\n",
    "    \n",
    "    accuracy = correct / len(test_subset)\n",
    "    return accuracy, correct, len(test_subset)\n",
    "\n",
    "\n"
   ]
  },
  {
   "cell_type": "code",
   "execution_count": 78,
   "id": "c677a6b2",
   "metadata": {},
   "outputs": [],
   "source": [
    "\n",
    "def test_sample_questions(test_data, index, training_data, model, num_samples=3):\n",
    "    \"\"\"Test the RAG system with sample questions\"\"\"\n",
    "    print(\"=== RAG System Test ===\")\n",
    "    print(f\"Training passages: {len(training_data)}\")\n",
    "    print(f\"Test questions: {len(test_data)}\")\n",
    "    print(\"=\"*50)\n",
    "    \n",
    "    for i, (question, answer) in enumerate(list(test_data.items())[:num_samples]):\n",
    "        print(f\"\\nTest {i+1}:\")\n",
    "        print(f\"Question: {question}\")\n",
    "        print(f\"Expected Answer: {answer}\")\n",
    "        \n",
    "        results = search_similar_passages(question, index, training_data, model, k=1)\n",
    "        print(\"Retrieved passages:\")\n",
    "        for j, passage in enumerate(results, 1):\n",
    "            print(f\"  {j}. {passage[:100]}...\")\n",
    "        \n",
    "        print(\"-\" * 50)"
   ]
  },
  {
   "cell_type": "code",
   "execution_count": 79,
   "id": "af1fa7c9",
   "metadata": {},
   "outputs": [],
   "source": [
    "\n",
    "\n",
    "def print_system_summary(training_data, test_data, embeddings):\n",
    "    \"\"\"Print system summary information\"\"\"\n",
    "    logging.info(\"Printing system summary...\")\n",
    "    print(\"=== System Summary ===\")\n",
    "    print(f\"Model: sentence-transformers/all-MiniLM-L6-v2\")\n",
    "    print(f\"Training passages: {len(training_data)}\")\n",
    "    print(f\"Test questions: {len(test_data)}\")\n",
    "    print(f\"Embedding dimension: {embeddings.shape[1]}\")\n",
    "    print(\"✓ Semantic search with FAISS\")\n",
    "    print(\"✓ Top-5 passage retrieval\")\n",
    "    print(\"• No answer generation (retrieval only)\")\n",
    "    logging.info(\"System summary printed\")\n"
   ]
  },
  {
   "cell_type": "code",
   "execution_count": 80,
   "id": "6cb76721",
   "metadata": {},
   "outputs": [
    {
     "name": "stderr",
     "output_type": "stream",
     "text": [
      "2025-09-26 13:41:59,626 - INFO - Logging initialized. Log file: ../logs/rag_system_20250926_134159.log\n",
      "2025-09-26 13:41:59,626 - INFO - Starting RAG system execution...\n",
      "2025-09-26 13:41:59,644 - INFO - Use pytorch device_name: mps\n",
      "2025-09-26 13:41:59,644 - INFO - Load pretrained SentenceTransformer: sentence-transformers/all-MiniLM-L6-v2\n",
      "Batches: 100%|██████████| 100/100 [00:02<00:00, 36.49it/s]\n",
      "2025-09-26 13:42:03,359 - INFO - Printing system summary...\n",
      "2025-09-26 13:42:03,359 - INFO - System summary printed\n"
     ]
    },
    {
     "name": "stdout",
     "output_type": "stream",
     "text": [
      "=== System Summary ===\n",
      "Model: sentence-transformers/all-MiniLM-L6-v2\n",
      "Training passages: 3200\n",
      "Test questions: 918\n",
      "Embedding dimension: 384\n",
      "✓ Semantic search with FAISS\n",
      "✓ Top-5 passage retrieval\n",
      "• No answer generation (retrieval only)\n",
      "\n",
      "==================================================\n",
      "\n",
      "=== Sample Questions Test ===\n",
      "=== RAG System Test ===\n",
      "Training passages: 3200\n",
      "Test questions: 918\n",
      "==================================================\n",
      "\n",
      "Test 1:\n",
      "Question: Was Abraham Lincoln the sixteenth President of the United States?\n",
      "Expected Answer: yes\n"
     ]
    },
    {
     "name": "stderr",
     "output_type": "stream",
     "text": [
      "Batches: 100%|██████████| 1/1 [00:00<00:00, 199.40it/s]\n"
     ]
    },
    {
     "name": "stdout",
     "output_type": "stream",
     "text": [
      "Retrieved passages:\n",
      "  1. Young Abraham Lincoln...\n",
      "--------------------------------------------------\n",
      "\n",
      "Test 2:\n",
      "Question: Did Lincoln sign the National Banking Act of 1863?\n",
      "Expected Answer: yes\n"
     ]
    },
    {
     "name": "stderr",
     "output_type": "stream",
     "text": [
      "Batches: 100%|██████████| 1/1 [00:00<00:00, 211.25it/s]\n"
     ]
    },
    {
     "name": "stdout",
     "output_type": "stream",
     "text": [
      "Retrieved passages:\n",
      "  1. Lincoln believed in the Whig theory of the presidency, which left Congress to write the laws while h...\n",
      "--------------------------------------------------\n",
      "\n",
      "Test 3:\n",
      "Question: Did his mother die of pneumonia?\n",
      "Expected Answer: no\n"
     ]
    },
    {
     "name": "stderr",
     "output_type": "stream",
     "text": [
      "Batches: 100%|██████████| 1/1 [00:00<00:00, 207.17it/s]\n"
     ]
    },
    {
     "name": "stdout",
     "output_type": "stream",
     "text": [
      "Retrieved passages:\n",
      "  1. An autopsy performed after his death revealed grave problems with his stomach and other organs of hi...\n",
      "--------------------------------------------------\n",
      "\n",
      "=== Evaluation ===\n"
     ]
    },
    {
     "name": "stderr",
     "output_type": "stream",
     "text": [
      "Batches: 100%|██████████| 1/1 [00:00<00:00, 164.48it/s]\n",
      "Batches: 100%|██████████| 1/1 [00:00<00:00, 164.53it/s]\n",
      "Batches: 100%|██████████| 1/1 [00:00<00:00, 214.13it/s]\n",
      "Batches: 100%|██████████| 1/1 [00:00<00:00, 204.87it/s]\n",
      "Batches: 100%|██████████| 1/1 [00:00<00:00, 221.14it/s]\n",
      "Batches: 100%|██████████| 1/1 [00:00<00:00, 200.07it/s]\n",
      "Batches: 100%|██████████| 1/1 [00:00<00:00, 205.10it/s]\n",
      "Batches: 100%|██████████| 1/1 [00:00<00:00, 227.53it/s]\n",
      "Batches: 100%|██████████| 1/1 [00:00<00:00, 198.26it/s]\n",
      "Batches: 100%|██████████| 1/1 [00:00<00:00, 221.83it/s]\n",
      "2025-09-26 13:42:03,448 - INFO - RAG system execution completed successfully\n",
      "2025-09-26 13:42:03,448 - INFO - Log file saved at: ../logs/rag_system_20250926_134159.log\n"
     ]
    },
    {
     "name": "stdout",
     "output_type": "stream",
     "text": [
      "Accuracy: 50.0% (5/10)\n"
     ]
    }
   ],
   "source": [
    "# Main execution function\n",
    "def main():\n",
    "    \"\"\"Main function to run the RAG system\"\"\"\n",
    "    # Setup logging\n",
    "    log_file = setup_logging()\n",
    "    logging.info(\"Starting RAG system execution...\")\n",
    "    \n",
    "    try:\n",
    "        # Load data\n",
    "        training_data = load_training_data(\"../data/training-rag-mini-wikipedia_question-answer.csv\")\n",
    "        test_data = load_test_data(\"../data/test-rag-mini-wikipedia_question-answer.csv\")\n",
    "        \n",
    "        # Initialize model and create embeddings\n",
    "        model = initialize_model()\n",
    "        embeddings = get_embeddings(training_data, model)\n",
    "        index = create_index(embeddings)\n",
    "        \n",
    "        # Print system summary\n",
    "        print_system_summary(training_data, test_data, embeddings)\n",
    "        print(\"\\n\" + \"=\"*50)\n",
    "\n",
    "        # Test sample questions\n",
    "        print(\"\\n=== Sample Questions Test ===\")\n",
    "        test_sample_questions(test_data, index, training_data, model)\n",
    "        \n",
    "        # Evaluate accuracy\n",
    "        print(\"\\n=== Evaluation ===\")\n",
    "        accuracy, correct, total = evaluate_retrieval_accuracy(test_data, index, training_data, model)\n",
    "        print(f\"Accuracy: {accuracy:.1%} ({correct}/{total})\")\n",
    "        \n",
    "        logging.info(\"RAG system execution completed successfully\")\n",
    "        logging.info(f\"Log file saved at: {log_file}\")\n",
    "        \n",
    "    except Exception as e:\n",
    "        logging.error(f\"Error during execution: {str(e)}\")\n",
    "        raise\n",
    "\n",
    "# Run the main function\n",
    "if __name__ == \"__main__\":\n",
    "    main()\n"
   ]
  }
 ],
 "metadata": {
  "kernelspec": {
   "display_name": ".venv",
   "language": "python",
   "name": "python3"
  },
  "language_info": {
   "codemirror_mode": {
    "name": "ipython",
    "version": 3
   },
   "file_extension": ".py",
   "mimetype": "text/x-python",
   "name": "python",
   "nbconvert_exporter": "python",
   "pygments_lexer": "ipython3",
   "version": "3.11.0"
  }
 },
 "nbformat": 4,
 "nbformat_minor": 5
}
